{
 "cells": [
  {
   "cell_type": "code",
   "execution_count": 1,
   "metadata": {},
   "outputs": [
    {
     "name": "stdout",
     "output_type": "stream",
     "text": [
      "Collecting pandas\n",
      "  Using cached pandas-2.2.2-cp312-cp312-win_amd64.whl.metadata (19 kB)\n",
      "Requirement already satisfied: numpy>=1.26.0 in c:\\python312\\lib\\site-packages (from pandas) (1.26.4)\n",
      "Requirement already satisfied: python-dateutil>=2.8.2 in c:\\users\\damaris\\appdata\\roaming\\python\\python312\\site-packages (from pandas) (2.9.0.post0)\n",
      "Requirement already satisfied: pytz>=2020.1 in c:\\python312\\lib\\site-packages (from pandas) (2024.1)\n",
      "Requirement already satisfied: tzdata>=2022.7 in c:\\python312\\lib\\site-packages (from pandas) (2024.1)\n",
      "Requirement already satisfied: six>=1.5 in c:\\users\\damaris\\appdata\\roaming\\python\\python312\\site-packages (from python-dateutil>=2.8.2->pandas) (1.16.0)\n",
      "Using cached pandas-2.2.2-cp312-cp312-win_amd64.whl (11.5 MB)\n",
      "Installing collected packages: pandas\n",
      "Successfully installed pandas-2.2.2\n",
      "Note: you may need to restart the kernel to use updated packages.\n",
      "Requirement already satisfied: openpyxl in c:\\python312\\lib\\site-packages (3.1.2)Note: you may need to restart the kernel to use updated packages.\n",
      "\n",
      "Requirement already satisfied: et-xmlfile in c:\\python312\\lib\\site-packages (from openpyxl) (1.1.0)\n",
      "Note: you may need to restart the kernel to use updated packages.\n"
     ]
    },
    {
     "name": "stderr",
     "output_type": "stream",
     "text": [
      "ERROR: Could not find a version that satisfies the requirement webbrowser (from versions: none)\n",
      "ERROR: No matching distribution found for webbrowser\n"
     ]
    },
    {
     "name": "stdout",
     "output_type": "stream",
     "text": [
      "Requirement already satisfied: pyautogui in c:\\python312\\lib\\site-packages (0.9.54)Note: you may need to restart the kernel to use updated packages.\n",
      "\n",
      "Requirement already satisfied: pymsgbox in c:\\python312\\lib\\site-packages (from pyautogui) (1.0.9)\n",
      "Requirement already satisfied: pytweening>=1.0.4 in c:\\python312\\lib\\site-packages (from pyautogui) (1.2.0)\n",
      "Requirement already satisfied: pyscreeze>=0.1.21 in c:\\python312\\lib\\site-packages (from pyautogui) (0.1.30)\n",
      "Requirement already satisfied: pygetwindow>=0.0.5 in c:\\python312\\lib\\site-packages (from pyautogui) (0.0.9)\n",
      "Requirement already satisfied: mouseinfo in c:\\python312\\lib\\site-packages (from pyautogui) (0.1.3)\n",
      "Requirement already satisfied: pyrect in c:\\python312\\lib\\site-packages (from pygetwindow>=0.0.5->pyautogui) (0.2.0)\n",
      "Requirement already satisfied: pyperclip in c:\\python312\\lib\\site-packages (from mouseinfo->pyautogui) (1.8.2)\n"
     ]
    }
   ],
   "source": [
    "%pip install pandas\n",
    "%pip install openpyxl\n",
    "%pip install webbrowser\n",
    "%pip install pyautogui"
   ]
  },
  {
   "cell_type": "code",
   "execution_count": 2,
   "metadata": {},
   "outputs": [],
   "source": [
    "import pandas as pd\n",
    "import webbrowser as web\n",
    "import pyautogui as pg\n",
    "import time"
   ]
  },
  {
   "cell_type": "code",
   "execution_count": 3,
   "metadata": {},
   "outputs": [
    {
     "data": {
      "text/html": [
       "<div>\n",
       "<style scoped>\n",
       "    .dataframe tbody tr th:only-of-type {\n",
       "        vertical-align: middle;\n",
       "    }\n",
       "\n",
       "    .dataframe tbody tr th {\n",
       "        vertical-align: top;\n",
       "    }\n",
       "\n",
       "    .dataframe thead th {\n",
       "        text-align: right;\n",
       "    }\n",
       "</style>\n",
       "<table border=\"1\" class=\"dataframe\">\n",
       "  <thead>\n",
       "    <tr style=\"text-align: right;\">\n",
       "      <th></th>\n",
       "      <th>Nombre</th>\n",
       "      <th>Celular</th>\n",
       "    </tr>\n",
       "  </thead>\n",
       "  <tbody>\n",
       "    <tr>\n",
       "      <th>0</th>\n",
       "      <td>Adriana antequera</td>\n",
       "      <td>59178930006</td>\n",
       "    </tr>\n",
       "    <tr>\n",
       "      <th>1</th>\n",
       "      <td>Alejandra Stefany</td>\n",
       "      <td>59170530917</td>\n",
       "    </tr>\n",
       "    <tr>\n",
       "      <th>2</th>\n",
       "      <td>Alexandra Angela</td>\n",
       "      <td>59171538614</td>\n",
       "    </tr>\n",
       "  </tbody>\n",
       "</table>\n",
       "</div>"
      ],
      "text/plain": [
       "              Nombre      Celular\n",
       "0  Adriana antequera  59178930006\n",
       "1  Alejandra Stefany  59170530917\n",
       "2   Alexandra Angela  59171538614"
      ]
     },
     "execution_count": 3,
     "metadata": {},
     "output_type": "execute_result"
    }
   ],
   "source": [
    "data = pd.read_excel(\"Clientes.xlsx\", sheet_name='Ventas')\n",
    "data.head(3)"
   ]
  },
  {
   "cell_type": "code",
   "execution_count": 75,
   "metadata": {},
   "outputs": [],
   "source": [
    "##for i in range(len(data)):\n",
    "for i in range(len(data)):\n",
    "    emojis='🙌💖🌺🌹🌻🌷🌼🌺💐💝'\n",
    "    j=0\n",
    "    celular = data.loc[i,'Celular'].astype(str) # Convertir a string para que se añada al mensaje\n",
    "    nombre = data.loc[i,'Nombre']\n",
    "\n",
    "    if (j == 9):\n",
    "        j=0 # Si ya se llegó al final de la lista de emojis, reiniciar el contador\n",
    "    \n",
    "    # Crear mensaje personalizado\n",
    "\n",
    "    mensaje = \"   🌸🌸🌸 HOLAA 🌸🌸🌸        \"\n",
    "    mensaje+=\"     \"+nombre+\" Te invito a que puedas ser parte del grupo informativo de la escuela FEMME DANCE \"+emojis[j]+\" ,\"\n",
    "    mensaje+=\" la primera escuela de Bolivia enfocada en danza que buscan el encuentro con tu femineidad!!! \"\n",
    "    mensaje+=\" Al ser parte del grupo podrás ser parte de sorteos, premios y otras sorpresas!!!✨Femme dance creando espacios de libre movimiento   \\n\\n\"\n",
    "    mensaje+=\"🌸 ¡¡¡TE ESPERAMOS!!!  🌸   \"\n",
    "    j += 1\n",
    "   \n",
    "    \n",
    "    # Abrir una nueva pestaña para entrar a WhatsApp Web\n",
    "\n",
    "    # Se abre WhastApp Web en Microsoft Edge\n",
    "\n",
    "    web.open(\"https://web.whatsapp.com/send?phone=\" + celular + \"&text=\" + mensaje)\n",
    "    \n",
    "    time.sleep(8)           # Esperar 8 segundos a que cargue\n",
    "    pg.click(1230,660)#964)      # Hacer click en la caja de texto\n",
    "    time.sleep(2)           # Esperar 2 segundos \n",
    "    pg.press('enter')     # Hacer click en el boton de enviar \n",
    "    time.sleep(2)           # Esperar 3 segundos a que se envíe el mensaje\n",
    "\n",
    "    #Nuevo Mensaje\n",
    "    linkInvitacion=\"https://chat.whatsapp.com/FFFFF\"\n",
    "\n",
    "    pg.click(1230, 660)  \n",
    "    # Esperar 4 segundos para que cargue la página\n",
    "    time.sleep(4)\n",
    "\n",
    "    # Escribir el segundo mensaje\n",
    "    pg.write(linkInvitacion)\n",
    "\n",
    "    # Esperar 5 segundos para que cargue el mensaje\n",
    "    time.sleep(5)\n",
    "\n",
    "    # Enviar el mensaje\n",
    "    pg.press('enter')\n",
    "\n",
    "    # Esperar 5 segundos para que se envíe el mensaje\n",
    "    time.sleep(5)\n",
    "\n",
    "    pg.hotkey('ctrl', 'w')  # Cerrar la pestaña\n",
    "    time.sleep(2)"
   ]
  }
 ],
 "metadata": {
  "kernelspec": {
   "display_name": "Python 3",
   "language": "python",
   "name": "python3"
  },
  "language_info": {
   "codemirror_mode": {
    "name": "ipython",
    "version": 3
   },
   "file_extension": ".py",
   "mimetype": "text/x-python",
   "name": "python",
   "nbconvert_exporter": "python",
   "pygments_lexer": "ipython3",
   "version": "3.12.2"
  }
 },
 "nbformat": 4,
 "nbformat_minor": 2
}
